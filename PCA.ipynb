{
  "cells": [
    {
      "cell_type": "markdown",
      "metadata": {
        "id": "view-in-github",
        "colab_type": "text"
      },
      "source": [
        "<a href=\"https://colab.research.google.com/github/mohsenperfection/ML/blob/CHW04/PCA.ipynb\" target=\"_parent\"><img src=\"https://colab.research.google.com/assets/colab-badge.svg\" alt=\"Open In Colab\"/></a>"
      ]
    },
    {
      "cell_type": "markdown",
      "metadata": {
        "id": "_pqG8R6mHR-_"
      },
      "source": [
        "# Enter Student Name & ID"
      ]
    },
    {
      "cell_type": "code",
      "execution_count": null,
      "metadata": {
        "id": "rKWsz4-SHR_G",
        "outputId": "a1fd4393-8d40-4bfa-bc5e-2417f85fd0e0"
      },
      "outputs": [
        {
          "name": "stdout",
          "output_type": "stream",
          "text": [
            "your student id: 99102083\n",
            "your name: Mohsen Kamalabadi Farahani\n"
          ]
        }
      ],
      "source": [
        "student_id = 99102083  #@param {type:\"integer\"}\n",
        "student_name = \"Mohsen Kamalabadi Farahani\" #@param {type:\"string\"}\n",
        "\n",
        "print(\"your student id:\", student_id)\n",
        "print(\"your name:\", student_name)"
      ]
    },
    {
      "cell_type": "markdown",
      "metadata": {
        "id": "GtLRJ-21HR_I"
      },
      "source": [
        "## Part 1. Implementing Your Own PCA Function."
      ]
    },
    {
      "cell_type": "markdown",
      "metadata": {
        "id": "RpPNlmlhHR_J"
      },
      "source": [
        "### 1.1 Complete the function below using only the `numpy` library."
      ]
    },
    {
      "cell_type": "code",
      "execution_count": null,
      "metadata": {
        "id": "5WDEN473HR_J"
      },
      "outputs": [],
      "source": [
        "import numpy as np"
      ]
    },
    {
      "cell_type": "code",
      "execution_count": null,
      "metadata": {
        "id": "RMNX-x6WHR_J"
      },
      "outputs": [],
      "source": [
        "def myPCA(X, num_components):\n",
        "    X_meaned = X - np.mean(X, axis=0)\n",
        "    cov_matrix = np.cov(X_meaned, rowvar=False)\n",
        "    eigenvalues, eigenvectors = np.linalg.eigh(cov_matrix)\n",
        "\n",
        "    sorted_index = np.argsort(eigenvalues)[::-1]\n",
        "    sorted_eigenvalues = eigenvalues[sorted_index]\n",
        "    sorted_eigenvectors = eigenvectors[:, sorted_index]\n",
        "\n",
        "    top_eigenvectors = sorted_eigenvectors[:, 0:num_components]\n",
        "    projected_X = np.dot(X_meaned, top_eigenvectors)\n",
        "    return projected_X"
      ]
    },
    {
      "cell_type": "markdown",
      "metadata": {
        "id": "D5dgpTiHHR_K"
      },
      "source": [
        "### 1.2 Perform your PCA function on the IRIS dataset, reduce it to 2D, and plot the results."
      ]
    },
    {
      "cell_type": "code",
      "execution_count": null,
      "metadata": {
        "id": "78lqB2fYHR_K"
      },
      "outputs": [],
      "source": [
        "import matplotlib as plt\n",
        "import matplotlib.pyplot as plt\n",
        "from sklearn.datasets import load_iris\n",
        "import os\n",
        "import cv2\n",
        "from sklearn.discriminant_analysis import LinearDiscriminantAnalysis as LDA\n",
        "from sklearn.metrics import accuracy_score"
      ]
    },
    {
      "cell_type": "code",
      "execution_count": null,
      "metadata": {
        "id": "_9j9wNKTHR_K",
        "outputId": "918e2f56-ffa1-4996-8e8d-cadc23a5c68a"
      },
      "outputs": [
        {
          "data": {
            "image/png": "[encoded data removed]",
            "text/plain": [
              "<Figure size 576x432 with 1 Axes>"
            ]
          },
          "metadata": {
            "needs_background": "light"
          },
          "output_type": "display_data"
        }
      ],
      "source": [
        "def myPCA(X, num_components):\n",
        "    X_meaned = X - np.mean(X, axis=0)\n",
        "\n",
        "    cov_matrix = np.cov(X_meaned, rowvar=False)\n",
        "\n",
        "    eigenvalues, eigenvectors = np.linalg.eigh(cov_matrix)\n",
        "\n",
        "    sorted_index = np.argsort(eigenvalues)[::-1]\n",
        "    sorted_eigenvalues = eigenvalues[sorted_index]\n",
        "    sorted_eigenvectors = eigenvectors[:, sorted_index]\n",
        "\n",
        "    top_eigenvectors = sorted_eigenvectors[:, 0:num_components]\n",
        "\n",
        "    projected_X = np.dot(X_meaned, top_eigenvectors)\n",
        "\n",
        "    return projected_X\n",
        "\n",
        "iris = load_iris()\n",
        "X = iris.data\n",
        "y = iris.target\n",
        "target_names = iris.target_names\n",
        "\n",
        "X_pca = myPCA(X, 2)\n",
        "\n",
        "plt.figure(figsize=(8, 6))\n",
        "for target, target_name in zip([0, 1, 2], target_names):\n",
        "    plt.scatter(X_pca[y == target, 0], X_pca[y == target, 1], label=target_name)\n",
        "\n",
        "plt.xlabel('Principal Component 1')\n",
        "plt.ylabel('Principal Component 2')\n",
        "plt.legend()\n",
        "plt.title('PCA of IRIS dataset')\n",
        "plt.show()\n"
      ]
    },
    {
      "cell_type": "markdown",
      "metadata": {
        "id": "2IOfKyhoHR_L"
      },
      "source": [
        "## Part 2. Faces Dataset"
      ]
    },
    {
      "cell_type": "markdown",
      "metadata": {
        "id": "32Gxgfy-HR_L"
      },
      "source": [
        "The dataset contains a total of 40 folders, each contains 10 images depicting a specific individual in ten different states."
      ]
    },
    {
      "cell_type": "markdown",
      "metadata": {
        "id": "U7ojS-XTHR_M"
      },
      "source": [
        "### 2.1  Describe eigenfaces and how they are related to PCA."
      ]
    },
    {
      "cell_type": "markdown",
      "metadata": {
        "id": "ETcyxTlbHR_M"
      },
      "source": [
        "`Answer 2.1: `\n"
      ]
    },
    {
      "cell_type": "markdown",
      "metadata": {
        "id": "TufxYAieHR_M"
      },
      "source": [
        "### 2.2 Read the given dataset and create train and test matrices.\n",
        "For each person, use the first five images for training and the second five images for test (`X_train`, `X_test`). Also, create labels for them (`y_train`, `y_test`).\n",
        "\n",
        "Note: For reading the images, you can use opencv library. You can install this library using the below command in terminal:"
      ]
    },
    {
      "cell_type": "markdown",
      "metadata": {
        "id": "hhjCwTmxHR_M"
      },
      "source": [
        "`pip install opencv-python`"
      ]
    },
    {
      "cell_type": "code",
      "execution_count": null,
      "metadata": {
        "id": "QErjtEZsHR_N",
        "outputId": "5988a25d-e0b0-4920-94fc-b3aba58a3119"
      },
      "outputs": [
        {
          "name": "stdout",
          "output_type": "stream",
          "text": [
            "X_train shape: (200,)\n",
            "X_test shape: (200,)\n",
            "y_train shape: (200,)\n",
            "y_test shape: (200,)\n"
          ]
        },
        {
          "name": "stderr",
          "output_type": "stream",
          "text": [
            "[ WARN:0@2984.852] global loadsave.cpp:248 findDecoder imread_('ORL/subfolder_1/person_1_1.jpg'): can't open/read file: check file path/integrity\n",
            "[ WARN:0@2984.852] global loadsave.cpp:248 findDecoder imread_('ORL/subfolder_1/person_1_2.jpg'): can't open/read file: check file path/integrity\n",
            "[ WARN:0@2984.853] global loadsave.cpp:248 findDecoder imread_('ORL/subfolder_1/person_1_3.jpg'): can't open/read file: check file path/integrity\n",
            "[ WARN:0@2984.853] global loadsave.cpp:248 findDecoder imread_('ORL/subfolder_1/person_1_4.jpg'): can't open/read file: check file path/integrity\n",
            "[ WARN:0@2984.853] global loadsave.cpp:248 findDecoder imread_('ORL/subfolder_1/person_1_5.jpg'): can't open/read file: check file path/integrity\n",
            "[ WARN:0@2984.854] global loadsave.cpp:248 findDecoder imread_('ORL/subfolder_1/person_1_6.jpg'): can't open/read file: check file path/integrity\n",
            "[ WARN:0@2984.855] global loadsave.cpp:248 findDecoder imread_('ORL/subfolder_1/person_1_7.jpg'): can't open/read file: check file path/integrity\n",
            "[ WARN:0@2984.855] global loadsave.cpp:248 findDecoder imread_('ORL/subfolder_1/person_1_8.jpg'): can't open/read file: check file path/integrity\n",
            "[ WARN:0@2984.855] global loadsave.cpp:248 findDecoder imread_('ORL/subfolder_1/person_1_9.jpg'): can't open/read file: check file path/integrity\n",
            "[ WARN:0@2984.855] global loadsave.cpp:248 findDecoder imread_('ORL/subfolder_1/person_1_10.jpg'): can't open/read file: check file path/integrity\n",
            "[ WARN:0@2984.856] global loadsave.cpp:248 findDecoder imread_('ORL/subfolder_2/person_2_1.jpg'): can't open/read file: check file path/integrity\n",
            "[ WARN:0@2984.856] global loadsave.cpp:248 findDecoder imread_('ORL/subfolder_2/person_2_2.jpg'): can't open/read file: check file path/integrity\n",
            "[ WARN:0@2984.856] global loadsave.cpp:248 findDecoder imread_('ORL/subfolder_2/person_2_3.jpg'): can't open/read file: check file path/integrity\n",
            "[ WARN:0@2984.856] global loadsave.cpp:248 findDecoder imread_('ORL/subfolder_2/person_2_4.jpg'): can't open/read file: check file path/integrity\n",
            "[ WARN:0@2984.856] global loadsave.cpp:248 findDecoder imread_('ORL/subfolder_2/person_2_5.jpg'): can't open/read file: check file path/integrity\n",
            "[ WARN:0@2984.856] global loadsave.cpp:248 findDecoder imread_('ORL/subfolder_2/person_2_6.jpg'): can't open/read file: check file path/integrity\n",
            "[ WARN:0@2984.856] global loadsave.cpp:248 findDecoder imread_('ORL/subfolder_2/person_2_7.jpg'): can't open/read file: check file path/integrity\n",
            "[ WARN:0@2984.856] global loadsave.cpp:248 findDecoder imread_('ORL/subfolder_2/person_2_8.jpg'): can't open/read file: check file path/integrity\n",
            "[ WARN:0@2984.856] global loadsave.cpp:248 findDecoder imread_('ORL/subfolder_2/person_2_9.jpg'): can't open/read file: check file path/integrity\n",
            "[ WARN:0@2984.856] global loadsave.cpp:248 findDecoder imread_('ORL/subfolder_2/person_2_10.jpg'): can't open/read file: check file path/integrity\n",
            "[ WARN:0@2984.856] global loadsave.cpp:248 findDecoder imread_('ORL/subfolder_3/person_3_1.jpg'): can't open/read file: check file path/integrity\n",
            "[ WARN:0@2984.856] global loadsave.cpp:248 findDecoder imread_('ORL/subfolder_3/person_3_2.jpg'): can't open/read file: check file path/integrity\n",
            "[ WARN:0@2984.857] global loadsave.cpp:248 findDecoder imread_('ORL/subfolder_3/person_3_3.jpg'): can't open/read file: check file path/integrity\n",
            "[ WARN:0@2984.857] global loadsave.cpp:248 findDecoder imread_('ORL/subfolder_3/person_3_4.jpg'): can't open/read file: check file path/integrity\n",
            "[ WARN:0@2984.857] global loadsave.cpp:248 findDecoder imread_('ORL/subfolder_3/person_3_5.jpg'): can't open/read file: check file path/integrity\n",
            "[ WARN:0@2984.857] global loadsave.cpp:248 findDecoder imread_('ORL/subfolder_3/person_3_6.jpg'): can't open/read file: check file path/integrity\n",
            "[ WARN:0@2984.857] global loadsave.cpp:248 findDecoder imread_('ORL/subfolder_3/person_3_7.jpg'): can't open/read file: check file path/integrity\n",
            "[ WARN:0@2984.857] global loadsave.cpp:248 findDecoder imread_('ORL/subfolder_3/person_3_8.jpg'): can't open/read file: check file path/integrity\n",
            "[ WARN:0@2984.857] global loadsave.cpp:248 findDecoder imread_('ORL/subfolder_3/person_3_9.jpg'): can't open/read file: check file path/integrity\n",
            "[ WARN:0@2984.857] global loadsave.cpp:248 findDecoder imread_('ORL/subfolder_3/person_3_10.jpg'): can't open/read file: check file path/integrity\n",
            "[ WARN:0@2984.857] global loadsave.cpp:248 findDecoder imread_('ORL/subfolder_4/person_4_1.jpg'): can't open/read file: check file path/integrity\n",
            "[ WARN:0@2984.857] global loadsave.cpp:248 findDecoder imread_('ORL/subfolder_4/person_4_2.jpg'): can't open/read file: check file path/integrity\n",
            "[ WARN:0@2984.857] global loadsave.cpp:248 findDecoder imread_('ORL/subfolder_4/person_4_3.jpg'): can't open/read file: check file path/integrity\n",
            "[ WARN:0@2984.857] global loadsave.cpp:248 findDecoder imread_('ORL/subfolder_4/person_4_4.jpg'): can't open/read file: check file path/integrity\n",
            "[ WARN:0@2984.858] global loadsave.cpp:248 findDecoder imread_('ORL/subfolder_4/person_4_5.jpg'): can't open/read file: check file path/integrity\n",
            "[ WARN:0@2984.858] global loadsave.cpp:248 findDecoder imread_('ORL/subfolder_4/person_4_6.jpg'): can't open/read file: check file path/integrity\n",
            "[ WARN:0@2984.858] global loadsave.cpp:248 findDecoder imread_('ORL/subfolder_4/person_4_7.jpg'): can't open/read file: check file path/integrity\n",
            "[ WARN:0@2984.858] global loadsave.cpp:248 findDecoder imread_('ORL/subfolder_4/person_4_8.jpg'): can't open/read file: check file path/integrity\n",
            "[ WARN:0@2984.858] global loadsave.cpp:248 findDecoder imread_('ORL/subfolder_4/person_4_9.jpg'): can't open/read file: check file path/integrity\n",
            "[ WARN:0@2984.858] global loadsave.cpp:248 findDecoder imread_('ORL/subfolder_4/person_4_10.jpg'): can't open/read file: check file path/integrity\n",
            "[ WARN:0@2984.858] global loadsave.cpp:248 findDecoder imread_('ORL/subfolder_5/person_5_1.jpg'): can't open/read file: check file path/integrity\n",
            "[ WARN:0@2984.858] global loadsave.cpp:248 findDecoder imread_('ORL/subfolder_5/person_5_2.jpg'): can't open/read file: check file path/integrity\n",
            "[ WARN:0@2984.858] global loadsave.cpp:248 findDecoder imread_('ORL/subfolder_5/person_5_3.jpg'): can't open/read file: check file path/integrity\n",
            "[ WARN:0@2984.858] global loadsave.cpp:248 findDecoder imread_('ORL/subfolder_5/person_5_4.jpg'): can't open/read file: check file path/integrity\n",
            "[ WARN:0@2984.858] global loadsave.cpp:248 findDecoder imread_('ORL/subfolder_5/person_5_5.jpg'): can't open/read file: check file path/integrity\n",
            "[ WARN:0@2984.858] global loadsave.cpp:248 findDecoder imread_('ORL/subfolder_5/person_5_6.jpg'): can't open/read file: check file path/integrity\n",
            "[ WARN:0@2984.859] global loadsave.cpp:248 findDecoder imread_('ORL/subfolder_5/person_5_7.jpg'): can't open/read file: check file path/integrity\n",
            "[ WARN:0@2984.859] global loadsave.cpp:248 findDecoder imread_('ORL/subfolder_5/person_5_8.jpg'): can't open/read file: check file path/integrity\n",
            "[ WARN:0@2984.859] global loadsave.cpp:248 findDecoder imread_('ORL/subfolder_5/person_5_9.jpg'): can't open/read file: check file path/integrity\n",
            "[ WARN:0@2984.859] global loadsave.cpp:248 findDecoder imread_('ORL/subfolder_5/person_5_10.jpg'): can't open/read file: check file path/integrity\n",
            "[ WARN:0@2984.859] global loadsave.cpp:248 findDecoder imread_('ORL/subfolder_6/person_6_1.jpg'): can't open/read file: check file path/integrity\n",
            "[ WARN:0@2984.859] global loadsave.cpp:248 findDecoder imread_('ORL/subfolder_6/person_6_2.jpg'): can't open/read file: check file path/integrity\n",
            "[ WARN:0@2984.859] global loadsave.cpp:248 findDecoder imread_('ORL/subfolder_6/person_6_3.jpg'): can't open/read file: check file path/integrity\n",
            "[ WARN:0@2984.860] global loadsave.cpp:248 findDecoder imread_('ORL/subfolder_6/person_6_4.jpg'): can't open/read file: check file path/integrity\n",
            "[ WARN:0@2984.860] global loadsave.cpp:248 findDecoder imread_('ORL/subfolder_6/person_6_5.jpg'): can't open/read file: check file path/integrity\n",
            "[ WARN:0@2984.860] global loadsave.cpp:248 findDecoder imread_('ORL/subfolder_6/person_6_6.jpg'): can't open/read file: check file path/integrity\n",
            "[ WARN:0@2984.860] global loadsave.cpp:248 findDecoder imread_('ORL/subfolder_6/person_6_7.jpg'): can't open/read file: check file path/integrity\n",
            "[ WARN:0@2984.860] global loadsave.cpp:248 findDecoder imread_('ORL/subfolder_6/person_6_8.jpg'): can't open/read file: check file path/integrity\n",
            "[ WARN:0@2984.860] global loadsave.cpp:248 findDecoder imread_('ORL/subfolder_6/person_6_9.jpg'): can't open/read file: check file path/integrity\n",
            "[ WARN:0@2984.860] global loadsave.cpp:248 findDecoder imread_('ORL/subfolder_6/person_6_10.jpg'): can't open/read file: check file path/integrity\n",
            "[ WARN:0@2984.860] global loadsave.cpp:248 findDecoder imread_('ORL/subfolder_7/person_7_1.jpg'): can't open/read file: check file path/integrity\n",
            "[ WARN:0@2984.860] global loadsave.cpp:248 findDecoder imread_('ORL/subfolder_7/person_7_2.jpg'): can't open/read file: check file path/integrity\n",
            "[ WARN:0@2984.860] global loadsave.cpp:248 findDecoder imread_('ORL/subfolder_7/person_7_3.jpg'): can't open/read file: check file path/integrity\n",
            "[ WARN:0@2984.860] global loadsave.cpp:248 findDecoder imread_('ORL/subfolder_7/person_7_4.jpg'): can't open/read file: check file path/integrity\n",
            "[ WARN:0@2984.861] global loadsave.cpp:248 findDecoder imread_('ORL/subfolder_7/person_7_5.jpg'): can't open/read file: check file path/integrity\n",
            "[ WARN:0@2984.861] global loadsave.cpp:248 findDecoder imread_('ORL/subfolder_7/person_7_6.jpg'): can't open/read file: check file path/integrity\n",
            "[ WARN:0@2984.861] global loadsave.cpp:248 findDecoder imread_('ORL/subfolder_7/person_7_7.jpg'): can't open/read file: check file path/integrity\n",
            "[ WARN:0@2984.861] global loadsave.cpp:248 findDecoder imread_('ORL/subfolder_7/person_7_8.jpg'): can't open/read file: check file path/integrity\n",
            "[ WARN:0@2984.861] global loadsave.cpp:248 findDecoder imread_('ORL/subfolder_7/person_7_9.jpg'): can't open/read file: check file path/integrity\n",
            "[ WARN:0@2984.861] global loadsave.cpp:248 findDecoder imread_('ORL/subfolder_7/person_7_10.jpg'): can't open/read file: check file path/integrity\n",
            "[ WARN:0@2984.861] global loadsave.cpp:248 findDecoder imread_('ORL/subfolder_8/person_8_1.jpg'): can't open/read file: check file path/integrity\n",
            "[ WARN:0@2984.861] global loadsave.cpp:248 findDecoder imread_('ORL/subfolder_8/person_8_2.jpg'): can't open/read file: check file path/integrity\n",
            "[ WARN:0@2984.861] global loadsave.cpp:248 findDecoder imread_('ORL/subfolder_8/person_8_3.jpg'): can't open/read file: check file path/integrity\n",
            "[ WARN:0@2984.862] global loadsave.cpp:248 findDecoder imread_('ORL/subfolder_8/person_8_4.jpg'): can't open/read file: check file path/integrity\n",
            "[ WARN:0@2984.862] global loadsave.cpp:248 findDecoder imread_('ORL/subfolder_8/person_8_5.jpg'): can't open/read file: check file path/integrity\n",
            "[ WARN:0@2984.862] global loadsave.cpp:248 findDecoder imread_('ORL/subfolder_8/person_8_6.jpg'): can't open/read file: check file path/integrity\n",
            "[ WARN:0@2984.862] global loadsave.cpp:248 findDecoder imread_('ORL/subfolder_8/person_8_7.jpg'): can't open/read file: check file path/integrity\n",
            "[ WARN:0@2984.862] global loadsave.cpp:248 findDecoder imread_('ORL/subfolder_8/person_8_8.jpg'): can't open/read file: check file path/integrity\n",
            "[ WARN:0@2984.862] global loadsave.cpp:248 findDecoder imread_('ORL/subfolder_8/person_8_9.jpg'): can't open/read file: check file path/integrity\n",
            "[ WARN:0@2984.862] global loadsave.cpp:248 findDecoder imread_('ORL/subfolder_8/person_8_10.jpg'): can't open/read file: check file path/integrity\n",
            "[ WARN:0@2984.862] global loadsave.cpp:248 findDecoder imread_('ORL/subfolder_9/person_9_1.jpg'): can't open/read file: check file path/integrity\n",
            "[ WARN:0@2984.862] global loadsave.cpp:248 findDecoder imread_('ORL/subfolder_9/person_9_2.jpg'): can't open/read file: check file path/integrity\n",
            "[ WARN:0@2984.862] global loadsave.cpp:248 findDecoder imread_('ORL/subfolder_9/person_9_3.jpg'): can't open/read file: check file path/integrity\n",
            "[ WARN:0@2984.863] global loadsave.cpp:248 findDecoder imread_('ORL/subfolder_9/person_9_4.jpg'): can't open/read file: check file path/integrity\n",
            "[ WARN:0@2984.863] global loadsave.cpp:248 findDecoder imread_('ORL/subfolder_9/person_9_5.jpg'): can't open/read file: check file path/integrity\n",
            "[ WARN:0@2984.863] global loadsave.cpp:248 findDecoder imread_('ORL/subfolder_9/person_9_6.jpg'): can't open/read file: check file path/integrity\n",
            "[ WARN:0@2984.863] global loadsave.cpp:248 findDecoder imread_('ORL/subfolder_9/person_9_7.jpg'): can't open/read file: check file path/integrity\n",
            "[ WARN:0@2984.863] global loadsave.cpp:248 findDecoder imread_('ORL/subfolder_9/person_9_8.jpg'): can't open/read file: check file path/integrity\n",
            "[ WARN:0@2984.863] global loadsave.cpp:248 findDecoder imread_('ORL/subfolder_9/person_9_9.jpg'): can't open/read file: check file path/integrity\n",
            "[ WARN:0@2984.863] global loadsave.cpp:248 findDecoder imread_('ORL/subfolder_9/person_9_10.jpg'): can't open/read file: check file path/integrity\n",
            "[ WARN:0@2984.863] global loadsave.cpp:248 findDecoder imread_('ORL/subfolder_10/person_10_1.jpg'): can't open/read file: check file path/integrity\n",
            "[ WARN:0@2984.863] global loadsave.cpp:248 findDecoder imread_('ORL/subfolder_10/person_10_2.jpg'): can't open/read file: check file path/integrity\n",
            "[ WARN:0@2984.864] global loadsave.cpp:248 findDecoder imread_('ORL/subfolder_10/person_10_3.jpg'): can't open/read file: check file path/integrity\n",
            "[ WARN:0@2984.864] global loadsave.cpp:248 findDecoder imread_('ORL/subfolder_10/person_10_4.jpg'): can't open/read file: check file path/integrity\n",
            "[ WARN:0@2984.864] global loadsave.cpp:248 findDecoder imread_('ORL/subfolder_10/person_10_5.jpg'): can't open/read file: check file path/integrity\n",
            "[ WARN:0@2984.864] global loadsave.cpp:248 findDecoder imread_('ORL/subfolder_10/person_10_6.jpg'): can't open/read file: check file path/integrity\n",
            "[ WARN:0@2984.864] global loadsave.cpp:248 findDecoder imread_('ORL/subfolder_10/person_10_7.jpg'): can't open/read file: check file path/integrity\n",
            "[ WARN:0@2984.864] global loadsave.cpp:248 findDecoder imread_('ORL/subfolder_10/person_10_8.jpg'): can't open/read file: check file path/integrity\n",
            "[ WARN:0@2984.864] global loadsave.cpp:248 findDecoder imread_('ORL/subfolder_10/person_10_9.jpg'): can't open/read file: check file path/integrity\n",
            "[ WARN:0@2984.864] global loadsave.cpp:248 findDecoder imread_('ORL/subfolder_10/person_10_10.jpg'): can't open/read file: check file path/integrity\n",
            "[ WARN:0@2984.864] global loadsave.cpp:248 findDecoder imread_('ORL/subfolder_11/person_11_1.jpg'): can't open/read file: check file path/integrity\n",
            "[ WARN:0@2984.864] global loadsave.cpp:248 findDecoder imread_('ORL/subfolder_11/person_11_2.jpg'): can't open/read file: check file path/integrity\n",
            "[ WARN:0@2984.865] global loadsave.cpp:248 findDecoder imread_('ORL/subfolder_11/person_11_3.jpg'): can't open/read file: check file path/integrity\n",
            "[ WARN:0@2984.865] global loadsave.cpp:248 findDecoder imread_('ORL/subfolder_11/person_11_4.jpg'): can't open/read file: check file path/integrity\n",
            "[ WARN:0@2984.865] global loadsave.cpp:248 findDecoder imread_('ORL/subfolder_11/person_11_5.jpg'): can't open/read file: check file path/integrity\n",
            "[ WARN:0@2984.865] global loadsave.cpp:248 findDecoder imread_('ORL/subfolder_11/person_11_6.jpg'): can't open/read file: check file path/integrity\n",
            "[ WARN:0@2984.865] global loadsave.cpp:248 findDecoder imread_('ORL/subfolder_11/person_11_7.jpg'): can't open/read file: check file path/integrity\n",
            "[ WARN:0@2984.866] global loadsave.cpp:248 findDecoder imread_('ORL/subfolder_11/person_11_8.jpg'): can't open/read file: check file path/integrity\n",
            "[ WARN:0@2984.866] global loadsave.cpp:248 findDecoder imread_('ORL/subfolder_11/person_11_9.jpg'): can't open/read file: check file path/integrity\n",
            "[ WARN:0@2984.866] global loadsave.cpp:248 findDecoder imread_('ORL/subfolder_11/person_11_10.jpg'): can't open/read file: check file path/integrity\n",
            "[ WARN:0@2984.866] global loadsave.cpp:248 findDecoder imread_('ORL/subfolder_12/person_12_1.jpg'): can't open/read file: check file path/integrity\n",
            "[ WARN:0@2984.866] global loadsave.cpp:248 findDecoder imread_('ORL/subfolder_12/person_12_2.jpg'): can't open/read file: check file path/integrity\n",
            "[ WARN:0@2984.866] global loadsave.cpp:248 findDecoder imread_('ORL/subfolder_12/person_12_3.jpg'): can't open/read file: check file path/integrity\n",
            "[ WARN:0@2984.866] global loadsave.cpp:248 findDecoder imread_('ORL/subfolder_12/person_12_4.jpg'): can't open/read file: check file path/integrity\n",
            "[ WARN:0@2984.866] global loadsave.cpp:248 findDecoder imread_('ORL/subfolder_12/person_12_5.jpg'): can't open/read file: check file path/integrity\n",
            "[ WARN:0@2984.866] global loadsave.cpp:248 findDecoder imread_('ORL/subfolder_12/person_12_6.jpg'): can't open/read file: check file path/integrity\n",
            "[ WARN:0@2984.866] global loadsave.cpp:248 findDecoder imread_('ORL/subfolder_12/person_12_7.jpg'): can't open/read file: check file path/integrity\n",
            "[ WARN:0@2984.866] global loadsave.cpp:248 findDecoder imread_('ORL/subfolder_12/person_12_8.jpg'): can't open/read file: check file path/integrity\n",
            "[ WARN:0@2984.867] global loadsave.cpp:248 findDecoder imread_('ORL/subfolder_12/person_12_9.jpg'): can't open/read file: check file path/integrity\n",
            "[ WARN:0@2984.867] global loadsave.cpp:248 findDecoder imread_('ORL/subfolder_12/person_12_10.jpg'): can't open/read file: check file path/integrity\n",
            "[ WARN:0@2984.867] global loadsave.cpp:248 findDecoder imread_('ORL/subfolder_13/person_13_1.jpg'): can't open/read file: check file path/integrity\n",
            "[ WARN:0@2984.867] global loadsave.cpp:248 findDecoder imread_('ORL/subfolder_13/person_13_2.jpg'): can't open/read file: check file path/integrity\n",
            "[ WARN:0@2984.867] global loadsave.cpp:248 findDecoder imread_('ORL/subfolder_13/person_13_3.jpg'): can't open/read file: check file path/integrity\n",
            "[ WARN:0@2984.867] global loadsave.cpp:248 findDecoder imread_('ORL/subfolder_13/person_13_4.jpg'): can't open/read file: check file path/integrity\n",
            "[ WARN:0@2984.867] global loadsave.cpp:248 findDecoder imread_('ORL/subfolder_13/person_13_5.jpg'): can't open/read file: check file path/integrity\n",
            "[ WARN:0@2984.867] global loadsave.cpp:248 findDecoder imread_('ORL/subfolder_13/person_13_6.jpg'): can't open/read file: check file path/integrity\n",
            "[ WARN:0@2984.867] global loadsave.cpp:248 findDecoder imread_('ORL/subfolder_13/person_13_7.jpg'): can't open/read file: check file path/integrity\n",
            "[ WARN:0@2984.867] global loadsave.cpp:248 findDecoder imread_('ORL/subfolder_13/person_13_8.jpg'): can't open/read file: check file path/integrity\n",
            "[ WARN:0@2984.867] global loadsave.cpp:248 findDecoder imread_('ORL/subfolder_13/person_13_9.jpg'): can't open/read file: check file path/integrity\n",
            "[ WARN:0@2984.868] global loadsave.cpp:248 findDecoder imread_('ORL/subfolder_13/person_13_10.jpg'): can't open/read file: check file path/integrity\n",
            "[ WARN:0@2984.868] global loadsave.cpp:248 findDecoder imread_('ORL/subfolder_14/person_14_1.jpg'): can't open/read file: check file path/integrity\n",
            "[ WARN:0@2984.868] global loadsave.cpp:248 findDecoder imread_('ORL/subfolder_14/person_14_2.jpg'): can't open/read file: check file path/integrity\n",
            "[ WARN:0@2984.868] global loadsave.cpp:248 findDecoder imread_('ORL/subfolder_14/person_14_3.jpg'): can't open/read file: check file path/integrity\n",
            "[ WARN:0@2984.868] global loadsave.cpp:248 findDecoder imread_('ORL/subfolder_14/person_14_4.jpg'): can't open/read file: check file path/integrity\n",
            "[ WARN:0@2984.869] global loadsave.cpp:248 findDecoder imread_('ORL/subfolder_14/person_14_5.jpg'): can't open/read file: check file path/integrity\n",
            "[ WARN:0@2984.869] global loadsave.cpp:248 findDecoder imread_('ORL/subfolder_14/person_14_6.jpg'): can't open/read file: check file path/integrity\n",
            "[ WARN:0@2984.869] global loadsave.cpp:248 findDecoder imread_('ORL/subfolder_14/person_14_7.jpg'): can't open/read file: check file path/integrity\n",
            "[ WARN:0@2984.869] global loadsave.cpp:248 findDecoder imread_('ORL/subfolder_14/person_14_8.jpg'): can't open/read file: check file path/integrity\n",
            "[ WARN:0@2984.870] global loadsave.cpp:248 findDecoder imread_('ORL/subfolder_14/person_14_9.jpg'): can't open/read file: check file path/integrity\n",
            "[ WARN:0@2984.870] global loadsave.cpp:248 findDecoder imread_('ORL/subfolder_14/person_14_10.jpg'): can't open/read file: check file path/integrity\n",
            "[ WARN:0@2984.870] global loadsave.cpp:248 findDecoder imread_('ORL/subfolder_15/person_15_1.jpg'): can't open/read file: check file path/integrity\n",
            "[ WARN:0@2984.870] global loadsave.cpp:248 findDecoder imread_('ORL/subfolder_15/person_15_2.jpg'): can't open/read file: check file path/integrity\n",
            "[ WARN:0@2984.870] global loadsave.cpp:248 findDecoder imread_('ORL/subfolder_15/person_15_3.jpg'): can't open/read file: check file path/integrity\n",
            "[ WARN:0@2984.871] global loadsave.cpp:248 findDecoder imread_('ORL/subfolder_15/person_15_4.jpg'): can't open/read file: check file path/integrity\n",
            "[ WARN:0@2984.871] global loadsave.cpp:248 findDecoder imread_('ORL/subfolder_15/person_15_5.jpg'): can't open/read file: check file path/integrity\n",
            "[ WARN:0@2984.871] global loadsave.cpp:248 findDecoder imread_('ORL/subfolder_15/person_15_6.jpg'): can't open/read file: check file path/integrity\n",
            "[ WARN:0@2984.871] global loadsave.cpp:248 findDecoder imread_('ORL/subfolder_15/person_15_7.jpg'): can't open/read file: check file path/integrity\n",
            "[ WARN:0@2984.871] global loadsave.cpp:248 findDecoder imread_('ORL/subfolder_15/person_15_8.jpg'): can't open/read file: check file path/integrity\n",
            "[ WARN:0@2984.871] global loadsave.cpp:248 findDecoder imread_('ORL/subfolder_15/person_15_9.jpg'): can't open/read file: check file path/integrity\n",
            "[ WARN:0@2984.871] global loadsave.cpp:248 findDecoder imread_('ORL/subfolder_15/person_15_10.jpg'): can't open/read file: check file path/integrity\n",
            "[ WARN:0@2984.871] global loadsave.cpp:248 findDecoder imread_('ORL/subfolder_16/person_16_1.jpg'): can't open/read file: check file path/integrity\n",
            "[ WARN:0@2984.871] global loadsave.cpp:248 findDecoder imread_('ORL/subfolder_16/person_16_2.jpg'): can't open/read file: check file path/integrity\n",
            "[ WARN:0@2984.871] global loadsave.cpp:248 findDecoder imread_('ORL/subfolder_16/person_16_3.jpg'): can't open/read file: check file path/integrity\n",
            "[ WARN:0@2984.872] global loadsave.cpp:248 findDecoder imread_('ORL/subfolder_16/person_16_4.jpg'): can't open/read file: check file path/integrity\n",
            "[ WARN:0@2984.872] global loadsave.cpp:248 findDecoder imread_('ORL/subfolder_16/person_16_5.jpg'): can't open/read file: check file path/integrity\n",
            "[ WARN:0@2984.872] global loadsave.cpp:248 findDecoder imread_('ORL/subfolder_16/person_16_6.jpg'): can't open/read file: check file path/integrity\n",
            "[ WARN:0@2984.872] global loadsave.cpp:248 findDecoder imread_('ORL/subfolder_16/person_16_7.jpg'): can't open/read file: check file path/integrity\n",
            "[ WARN:0@2984.872] global loadsave.cpp:248 findDecoder imread_('ORL/subfolder_16/person_16_8.jpg'): can't open/read file: check file path/integrity\n",
            "[ WARN:0@2984.872] global loadsave.cpp:248 findDecoder imread_('ORL/subfolder_16/person_16_9.jpg'): can't open/read file: check file path/integrity\n",
            "[ WARN:0@2984.872] global loadsave.cpp:248 findDecoder imread_('ORL/subfolder_16/person_16_10.jpg'): can't open/read file: check file path/integrity\n",
            "[ WARN:0@2984.872] global loadsave.cpp:248 findDecoder imread_('ORL/subfolder_17/person_17_1.jpg'): can't open/read file: check file path/integrity\n",
            "[ WARN:0@2984.872] global loadsave.cpp:248 findDecoder imread_('ORL/subfolder_17/person_17_2.jpg'): can't open/read file: check file path/integrity\n",
            "[ WARN:0@2984.873] global loadsave.cpp:248 findDecoder imread_('ORL/subfolder_17/person_17_3.jpg'): can't open/read file: check file path/integrity\n",
            "[ WARN:0@2984.873] global loadsave.cpp:248 findDecoder imread_('ORL/subfolder_17/person_17_4.jpg'): can't open/read file: check file path/integrity\n",
            "[ WARN:0@2984.873] global loadsave.cpp:248 findDecoder imread_('ORL/subfolder_17/person_17_5.jpg'): can't open/read file: check file path/integrity\n",
            "[ WARN:0@2984.873] global loadsave.cpp:248 findDecoder imread_('ORL/subfolder_17/person_17_6.jpg'): can't open/read file: check file path/integrity\n",
            "[ WARN:0@2984.873] global loadsave.cpp:248 findDecoder imread_('ORL/subfolder_17/person_17_7.jpg'): can't open/read file: check file path/integrity\n",
            "[ WARN:0@2984.873] global loadsave.cpp:248 findDecoder imread_('ORL/subfolder_17/person_17_8.jpg'): can't open/read file: check file path/integrity\n",
            "[ WARN:0@2984.873] global loadsave.cpp:248 findDecoder imread_('ORL/subfolder_17/person_17_9.jpg'): can't open/read file: check file path/integrity\n",
            "[ WARN:0@2984.873] global loadsave.cpp:248 findDecoder imread_('ORL/subfolder_17/person_17_10.jpg'): can't open/read file: check file path/integrity\n",
            "[ WARN:0@2984.873] global loadsave.cpp:248 findDecoder imread_('ORL/subfolder_18/person_18_1.jpg'): can't open/read file: check file path/integrity\n",
            "[ WARN:0@2984.873] global loadsave.cpp:248 findDecoder imread_('ORL/subfolder_18/person_18_2.jpg'): can't open/read file: check file path/integrity\n",
            "[ WARN:0@2984.873] global loadsave.cpp:248 findDecoder imread_('ORL/subfolder_18/person_18_3.jpg'): can't open/read file: check file path/integrity\n",
            "[ WARN:0@2984.873] global loadsave.cpp:248 findDecoder imread_('ORL/subfolder_18/person_18_4.jpg'): can't open/read file: check file path/integrity\n",
            "[ WARN:0@2984.873] global loadsave.cpp:248 findDecoder imread_('ORL/subfolder_18/person_18_5.jpg'): can't open/read file: check file path/integrity\n",
            "[ WARN:0@2984.873] global loadsave.cpp:248 findDecoder imread_('ORL/subfolder_18/person_18_6.jpg'): can't open/read file: check file path/integrity\n",
            "[ WARN:0@2984.874] global loadsave.cpp:248 findDecoder imread_('ORL/subfolder_18/person_18_7.jpg'): can't open/read file: check file path/integrity\n",
            "[ WARN:0@2984.874] global loadsave.cpp:248 findDecoder imread_('ORL/subfolder_18/person_18_8.jpg'): can't open/read file: check file path/integrity\n",
            "[ WARN:0@2984.874] global loadsave.cpp:248 findDecoder imread_('ORL/subfolder_18/person_18_9.jpg'): can't open/read file: check file path/integrity\n",
            "[ WARN:0@2984.874] global loadsave.cpp:248 findDecoder imread_('ORL/subfolder_18/person_18_10.jpg'): can't open/read file: check file path/integrity\n",
            "[ WARN:0@2984.874] global loadsave.cpp:248 findDecoder imread_('ORL/subfolder_19/person_19_1.jpg'): can't open/read file: check file path/integrity\n",
            "[ WARN:0@2984.874] global loadsave.cpp:248 findDecoder imread_('ORL/subfolder_19/person_19_2.jpg'): can't open/read file: check file path/integrity\n",
            "[ WARN:0@2984.874] global loadsave.cpp:248 findDecoder imread_('ORL/subfolder_19/person_19_3.jpg'): can't open/read file: check file path/integrity\n",
            "[ WARN:0@2984.874] global loadsave.cpp:248 findDecoder imread_('ORL/subfolder_19/person_19_4.jpg'): can't open/read file: check file path/integrity\n",
            "[ WARN:0@2984.874] global loadsave.cpp:248 findDecoder imread_('ORL/subfolder_19/person_19_5.jpg'): can't open/read file: check file path/integrity\n",
            "[ WARN:0@2984.874] global loadsave.cpp:248 findDecoder imread_('ORL/subfolder_19/person_19_6.jpg'): can't open/read file: check file path/integrity\n",
            "[ WARN:0@2984.874] global loadsave.cpp:248 findDecoder imread_('ORL/subfolder_19/person_19_7.jpg'): can't open/read file: check file path/integrity\n",
            "[ WARN:0@2984.874] global loadsave.cpp:248 findDecoder imread_('ORL/subfolder_19/person_19_8.jpg'): can't open/read file: check file path/integrity\n",
            "[ WARN:0@2984.874] global loadsave.cpp:248 findDecoder imread_('ORL/subfolder_19/person_19_9.jpg'): can't open/read file: check file path/integrity\n",
            "[ WARN:0@2984.874] global loadsave.cpp:248 findDecoder imread_('ORL/subfolder_19/person_19_10.jpg'): can't open/read file: check file path/integrity\n",
            "[ WARN:0@2984.874] global loadsave.cpp:248 findDecoder imread_('ORL/subfolder_20/person_20_1.jpg'): can't open/read file: check file path/integrity\n",
            "[ WARN:0@2984.874] global loadsave.cpp:248 findDecoder imread_('ORL/subfolder_20/person_20_2.jpg'): can't open/read file: check file path/integrity\n",
            "[ WARN:0@2984.874] global loadsave.cpp:248 findDecoder imread_('ORL/subfolder_20/person_20_3.jpg'): can't open/read file: check file path/integrity\n",
            "[ WARN:0@2984.875] global loadsave.cpp:248 findDecoder imread_('ORL/subfolder_20/person_20_4.jpg'): can't open/read file: check file path/integrity\n",
            "[ WARN:0@2984.875] global loadsave.cpp:248 findDecoder imread_('ORL/subfolder_20/person_20_5.jpg'): can't open/read file: check file path/integrity\n",
            "[ WARN:0@2984.875] global loadsave.cpp:248 findDecoder imread_('ORL/subfolder_20/person_20_6.jpg'): can't open/read file: check file path/integrity\n",
            "[ WARN:0@2984.875] global loadsave.cpp:248 findDecoder imread_('ORL/subfolder_20/person_20_7.jpg'): can't open/read file: check file path/integrity\n",
            "[ WARN:0@2984.875] global loadsave.cpp:248 findDecoder imread_('ORL/subfolder_20/person_20_8.jpg'): can't open/read file: check file path/integrity\n",
            "[ WARN:0@2984.875] global loadsave.cpp:248 findDecoder imread_('ORL/subfolder_20/person_20_9.jpg'): can't open/read file: check file path/integrity\n",
            "[ WARN:0@2984.875] global loadsave.cpp:248 findDecoder imread_('ORL/subfolder_20/person_20_10.jpg'): can't open/read file: check file path/integrity\n",
            "[ WARN:0@2984.875] global loadsave.cpp:248 findDecoder imread_('ORL/subfolder_21/person_21_1.jpg'): can't open/read file: check file path/integrity\n",
            "[ WARN:0@2984.875] global loadsave.cpp:248 findDecoder imread_('ORL/subfolder_21/person_21_2.jpg'): can't open/read file: check file path/integrity\n",
            "[ WARN:0@2984.875] global loadsave.cpp:248 findDecoder imread_('ORL/subfolder_21/person_21_3.jpg'): can't open/read file: check file path/integrity\n",
            "[ WARN:0@2984.875] global loadsave.cpp:248 findDecoder imread_('ORL/subfolder_21/person_21_4.jpg'): can't open/read file: check file path/integrity\n",
            "[ WARN:0@2984.875] global loadsave.cpp:248 findDecoder imread_('ORL/subfolder_21/person_21_5.jpg'): can't open/read file: check file path/integrity\n",
            "[ WARN:0@2984.875] global loadsave.cpp:248 findDecoder imread_('ORL/subfolder_21/person_21_6.jpg'): can't open/read file: check file path/integrity\n",
            "[ WARN:0@2984.876] global loadsave.cpp:248 findDecoder imread_('ORL/subfolder_21/person_21_7.jpg'): can't open/read file: check file path/integrity\n",
            "[ WARN:0@2984.876] global loadsave.cpp:248 findDecoder imread_('ORL/subfolder_21/person_21_8.jpg'): can't open/read file: check file path/integrity\n",
            "[ WARN:0@2984.876] global loadsave.cpp:248 findDecoder imread_('ORL/subfolder_21/person_21_9.jpg'): can't open/read file: check file path/integrity\n",
            "[ WARN:0@2984.876] global loadsave.cpp:248 findDecoder imread_('ORL/subfolder_21/person_21_10.jpg'): can't open/read file: check file path/integrity\n",
            "[ WARN:0@2984.876] global loadsave.cpp:248 findDecoder imread_('ORL/subfolder_22/person_22_1.jpg'): can't open/read file: check file path/integrity\n",
            "[ WARN:0@2984.876] global loadsave.cpp:248 findDecoder imread_('ORL/subfolder_22/person_22_2.jpg'): can't open/read file: check file path/integrity\n",
            "[ WARN:0@2984.876] global loadsave.cpp:248 findDecoder imread_('ORL/subfolder_22/person_22_3.jpg'): can't open/read file: check file path/integrity\n",
            "[ WARN:0@2984.876] global loadsave.cpp:248 findDecoder imread_('ORL/subfolder_22/person_22_4.jpg'): can't open/read file: check file path/integrity\n",
            "[ WARN:0@2984.876] global loadsave.cpp:248 findDecoder imread_('ORL/subfolder_22/person_22_5.jpg'): can't open/read file: check file path/integrity\n",
            "[ WARN:0@2984.876] global loadsave.cpp:248 findDecoder imread_('ORL/subfolder_22/person_22_6.jpg'): can't open/read file: check file path/integrity\n",
            "[ WARN:0@2984.876] global loadsave.cpp:248 findDecoder imread_('ORL/subfolder_22/person_22_7.jpg'): can't open/read file: check file path/integrity\n",
            "[ WARN:0@2984.876] global loadsave.cpp:248 findDecoder imread_('ORL/subfolder_22/person_22_8.jpg'): can't open/read file: check file path/integrity\n",
            "[ WARN:0@2984.876] global loadsave.cpp:248 findDecoder imread_('ORL/subfolder_22/person_22_9.jpg'): can't open/read file: check file path/integrity\n",
            "[ WARN:0@2984.876] global loadsave.cpp:248 findDecoder imread_('ORL/subfolder_22/person_22_10.jpg'): can't open/read file: check file path/integrity\n",
            "[ WARN:0@2984.876] global loadsave.cpp:248 findDecoder imread_('ORL/subfolder_23/person_23_1.jpg'): can't open/read file: check file path/integrity\n",
            "[ WARN:0@2984.877] global loadsave.cpp:248 findDecoder imread_('ORL/subfolder_23/person_23_2.jpg'): can't open/read file: check file path/integrity\n",
            "[ WARN:0@2984.877] global loadsave.cpp:248 findDecoder imread_('ORL/subfolder_23/person_23_3.jpg'): can't open/read file: check file path/integrity\n",
            "[ WARN:0@2984.877] global loadsave.cpp:248 findDecoder imread_('ORL/subfolder_23/person_23_4.jpg'): can't open/read file: check file path/integrity\n",
            "[ WARN:0@2984.877] global loadsave.cpp:248 findDecoder imread_('ORL/subfolder_23/person_23_5.jpg'): can't open/read file: check file path/integrity\n",
            "[ WARN:0@2984.877] global loadsave.cpp:248 findDecoder imread_('ORL/subfolder_23/person_23_6.jpg'): can't open/read file: check file path/integrity\n",
            "[ WARN:0@2984.877] global loadsave.cpp:248 findDecoder imread_('ORL/subfolder_23/person_23_7.jpg'): can't open/read file: check file path/integrity\n",
            "[ WARN:0@2984.877] global loadsave.cpp:248 findDecoder imread_('ORL/subfolder_23/person_23_8.jpg'): can't open/read file: check file path/integrity\n",
            "[ WARN:0@2984.877] global loadsave.cpp:248 findDecoder imread_('ORL/subfolder_23/person_23_9.jpg'): can't open/read file: check file path/integrity\n",
            "[ WARN:0@2984.877] global loadsave.cpp:248 findDecoder imread_('ORL/subfolder_23/person_23_10.jpg'): can't open/read file: check file path/integrity\n",
            "[ WARN:0@2984.877] global loadsave.cpp:248 findDecoder imread_('ORL/subfolder_24/person_24_1.jpg'): can't open/read file: check file path/integrity\n",
            "[ WARN:0@2984.877] global loadsave.cpp:248 findDecoder imread_('ORL/subfolder_24/person_24_2.jpg'): can't open/read file: check file path/integrity\n",
            "[ WARN:0@2984.877] global loadsave.cpp:248 findDecoder imread_('ORL/subfolder_24/person_24_3.jpg'): can't open/read file: check file path/integrity\n",
            "[ WARN:0@2984.877] global loadsave.cpp:248 findDecoder imread_('ORL/subfolder_24/person_24_4.jpg'): can't open/read file: check file path/integrity\n",
            "[ WARN:0@2984.877] global loadsave.cpp:248 findDecoder imread_('ORL/subfolder_24/person_24_5.jpg'): can't open/read file: check file path/integrity\n",
            "[ WARN:0@2984.877] global loadsave.cpp:248 findDecoder imread_('ORL/subfolder_24/person_24_6.jpg'): can't open/read file: check file path/integrity\n",
            "[ WARN:0@2984.877] global loadsave.cpp:248 findDecoder imread_('ORL/subfolder_24/person_24_7.jpg'): can't open/read file: check file path/integrity\n",
            "[ WARN:0@2984.877] global loadsave.cpp:248 findDecoder imread_('ORL/subfolder_24/person_24_8.jpg'): can't open/read file: check file path/integrity\n",
            "[ WARN:0@2984.877] global loadsave.cpp:248 findDecoder imread_('ORL/subfolder_24/person_24_9.jpg'): can't open/read file: check file path/integrity\n",
            "[ WARN:0@2984.878] global loadsave.cpp:248 findDecoder imread_('ORL/subfolder_24/person_24_10.jpg'): can't open/read file: check file path/integrity\n",
            "[ WARN:0@2984.878] global loadsave.cpp:248 findDecoder imread_('ORL/subfolder_25/person_25_1.jpg'): can't open/read file: check file path/integrity\n",
            "[ WARN:0@2984.878] global loadsave.cpp:248 findDecoder imread_('ORL/subfolder_25/person_25_2.jpg'): can't open/read file: check file path/integrity\n",
            "[ WARN:0@2984.878] global loadsave.cpp:248 findDecoder imread_('ORL/subfolder_25/person_25_3.jpg'): can't open/read file: check file path/integrity\n",
            "[ WARN:0@2984.878] global loadsave.cpp:248 findDecoder imread_('ORL/subfolder_25/person_25_4.jpg'): can't open/read file: check file path/integrity\n",
            "[ WARN:0@2984.878] global loadsave.cpp:248 findDecoder imread_('ORL/subfolder_25/person_25_5.jpg'): can't open/read file: check file path/integrity\n",
            "[ WARN:0@2984.878] global loadsave.cpp:248 findDecoder imread_('ORL/subfolder_25/person_25_6.jpg'): can't open/read file: check file path/integrity\n",
            "[ WARN:0@2984.878] global loadsave.cpp:248 findDecoder imread_('ORL/subfolder_25/person_25_7.jpg'): can't open/read file: check file path/integrity\n",
            "[ WARN:0@2984.878] global loadsave.cpp:248 findDecoder imread_('ORL/subfolder_25/person_25_8.jpg'): can't open/read file: check file path/integrity\n",
            "[ WARN:0@2984.878] global loadsave.cpp:248 findDecoder imread_('ORL/subfolder_25/person_25_9.jpg'): can't open/read file: check file path/integrity\n",
            "[ WARN:0@2984.878] global loadsave.cpp:248 findDecoder imread_('ORL/subfolder_25/person_25_10.jpg'): can't open/read file: check file path/integrity\n",
            "[ WARN:0@2984.878] global loadsave.cpp:248 findDecoder imread_('ORL/subfolder_26/person_26_1.jpg'): can't open/read file: check file path/integrity\n",
            "[ WARN:0@2984.878] global loadsave.cpp:248 findDecoder imread_('ORL/subfolder_26/person_26_2.jpg'): can't open/read file: check file path/integrity\n",
            "[ WARN:0@2984.878] global loadsave.cpp:248 findDecoder imread_('ORL/subfolder_26/person_26_3.jpg'): can't open/read file: check file path/integrity\n",
            "[ WARN:0@2984.878] global loadsave.cpp:248 findDecoder imread_('ORL/subfolder_26/person_26_4.jpg'): can't open/read file: check file path/integrity\n",
            "[ WARN:0@2984.878] global loadsave.cpp:248 findDecoder imread_('ORL/subfolder_26/person_26_5.jpg'): can't open/read file: check file path/integrity\n",
            "[ WARN:0@2984.879] global loadsave.cpp:248 findDecoder imread_('ORL/subfolder_26/person_26_6.jpg'): can't open/read file: check file path/integrity\n",
            "[ WARN:0@2984.879] global loadsave.cpp:248 findDecoder imread_('ORL/subfolder_26/person_26_7.jpg'): can't open/read file: check file path/integrity\n",
            "[ WARN:0@2984.879] global loadsave.cpp:248 findDecoder imread_('ORL/subfolder_26/person_26_8.jpg'): can't open/read file: check file path/integrity\n",
            "[ WARN:0@2984.879] global loadsave.cpp:248 findDecoder imread_('ORL/subfolder_26/person_26_9.jpg'): can't open/read file: check file path/integrity\n",
            "[ WARN:0@2984.879] global loadsave.cpp:248 findDecoder imread_('ORL/subfolder_26/person_26_10.jpg'): can't open/read file: check file path/integrity\n",
            "[ WARN:0@2984.879] global loadsave.cpp:248 findDecoder imread_('ORL/subfolder_27/person_27_1.jpg'): can't open/read file: check file path/integrity\n",
            "[ WARN:0@2984.880] global loadsave.cpp:248 findDecoder imread_('ORL/subfolder_27/person_27_2.jpg'): can't open/read file: check file path/integrity\n",
            "[ WARN:0@2984.880] global loadsave.cpp:248 findDecoder imread_('ORL/subfolder_27/person_27_3.jpg'): can't open/read file: check file path/integrity\n",
            "[ WARN:0@2984.880] global loadsave.cpp:248 findDecoder imread_('ORL/subfolder_27/person_27_4.jpg'): can't open/read file: check file path/integrity\n",
            "[ WARN:0@2984.880] global loadsave.cpp:248 findDecoder imread_('ORL/subfolder_27/person_27_5.jpg'): can't open/read file: check file path/integrity\n",
            "[ WARN:0@2984.880] global loadsave.cpp:248 findDecoder imread_('ORL/subfolder_27/person_27_6.jpg'): can't open/read file: check file path/integrity\n",
            "[ WARN:0@2984.880] global loadsave.cpp:248 findDecoder imread_('ORL/subfolder_27/person_27_7.jpg'): can't open/read file: check file path/integrity\n",
            "[ WARN:0@2984.880] global loadsave.cpp:248 findDecoder imread_('ORL/subfolder_27/person_27_8.jpg'): can't open/read file: check file path/integrity\n",
            "[ WARN:0@2984.881] global loadsave.cpp:248 findDecoder imread_('ORL/subfolder_27/person_27_9.jpg'): can't open/read file: check file path/integrity\n",
            "[ WARN:0@2984.881] global loadsave.cpp:248 findDecoder imread_('ORL/subfolder_27/person_27_10.jpg'): can't open/read file: check file path/integrity\n",
            "[ WARN:0@2984.881] global loadsave.cpp:248 findDecoder imread_('ORL/subfolder_28/person_28_1.jpg'): can't open/read file: check file path/integrity\n",
            "[ WARN:0@2984.881] global loadsave.cpp:248 findDecoder imread_('ORL/subfolder_28/person_28_2.jpg'): can't open/read file: check file path/integrity\n",
            "[ WARN:0@2984.881] global loadsave.cpp:248 findDecoder imread_('ORL/subfolder_28/person_28_3.jpg'): can't open/read file: check file path/integrity\n",
            "[ WARN:0@2984.881] global loadsave.cpp:248 findDecoder imread_('ORL/subfolder_28/person_28_4.jpg'): can't open/read file: check file path/integrity\n",
            "[ WARN:0@2984.882] global loadsave.cpp:248 findDecoder imread_('ORL/subfolder_28/person_28_5.jpg'): can't open/read file: check file path/integrity\n",
            "[ WARN:0@2984.882] global loadsave.cpp:248 findDecoder imread_('ORL/subfolder_28/person_28_6.jpg'): can't open/read file: check file path/integrity\n",
            "[ WARN:0@2984.882] global loadsave.cpp:248 findDecoder imread_('ORL/subfolder_28/person_28_7.jpg'): can't open/read file: check file path/integrity\n",
            "[ WARN:0@2984.882] global loadsave.cpp:248 findDecoder imread_('ORL/subfolder_28/person_28_8.jpg'): can't open/read file: check file path/integrity\n",
            "[ WARN:0@2984.882] global loadsave.cpp:248 findDecoder imread_('ORL/subfolder_28/person_28_9.jpg'): can't open/read file: check file path/integrity\n",
            "[ WARN:0@2984.882] global loadsave.cpp:248 findDecoder imread_('ORL/subfolder_28/person_28_10.jpg'): can't open/read file: check file path/integrity\n",
            "[ WARN:0@2984.882] global loadsave.cpp:248 findDecoder imread_('ORL/subfolder_29/person_29_1.jpg'): can't open/read file: check file path/integrity\n",
            "[ WARN:0@2984.882] global loadsave.cpp:248 findDecoder imread_('ORL/subfolder_29/person_29_2.jpg'): can't open/read file: check file path/integrity\n",
            "[ WARN:0@2984.882] global loadsave.cpp:248 findDecoder imread_('ORL/subfolder_29/person_29_3.jpg'): can't open/read file: check file path/integrity\n",
            "[ WARN:0@2984.882] global loadsave.cpp:248 findDecoder imread_('ORL/subfolder_29/person_29_4.jpg'): can't open/read file: check file path/integrity\n",
            "[ WARN:0@2984.882] global loadsave.cpp:248 findDecoder imread_('ORL/subfolder_29/person_29_5.jpg'): can't open/read file: check file path/integrity\n",
            "[ WARN:0@2984.882] global loadsave.cpp:248 findDecoder imread_('ORL/subfolder_29/person_29_6.jpg'): can't open/read file: check file path/integrity\n",
            "[ WARN:0@2984.882] global loadsave.cpp:248 findDecoder imread_('ORL/subfolder_29/person_29_7.jpg'): can't open/read file: check file path/integrity\n",
            "[ WARN:0@2984.882] global loadsave.cpp:248 findDecoder imread_('ORL/subfolder_29/person_29_8.jpg'): can't open/read file: check file path/integrity\n",
            "[ WARN:0@2984.882] global loadsave.cpp:248 findDecoder imread_('ORL/subfolder_29/person_29_9.jpg'): can't open/read file: check file path/integrity\n",
            "[ WARN:0@2984.883] global loadsave.cpp:248 findDecoder imread_('ORL/subfolder_29/person_29_10.jpg'): can't open/read file: check file path/integrity\n",
            "[ WARN:0@2984.883] global loadsave.cpp:248 findDecoder imread_('ORL/subfolder_30/person_30_1.jpg'): can't open/read file: check file path/integrity\n",
            "[ WARN:0@2984.883] global loadsave.cpp:248 findDecoder imread_('ORL/subfolder_30/person_30_2.jpg'): can't open/read file: check file path/integrity\n",
            "[ WARN:0@2984.883] global loadsave.cpp:248 findDecoder imread_('ORL/subfolder_30/person_30_3.jpg'): can't open/read file: check file path/integrity\n",
            "[ WARN:0@2984.883] global loadsave.cpp:248 findDecoder imread_('ORL/subfolder_30/person_30_4.jpg'): can't open/read file: check file path/integrity\n",
            "[ WARN:0@2984.883] global loadsave.cpp:248 findDecoder imread_('ORL/subfolder_30/person_30_5.jpg'): can't open/read file: check file path/integrity\n",
            "[ WARN:0@2984.883] global loadsave.cpp:248 findDecoder imread_('ORL/subfolder_30/person_30_6.jpg'): can't open/read file: check file path/integrity\n",
            "[ WARN:0@2984.883] global loadsave.cpp:248 findDecoder imread_('ORL/subfolder_30/person_30_7.jpg'): can't open/read file: check file path/integrity\n",
            "[ WARN:0@2984.883] global loadsave.cpp:248 findDecoder imread_('ORL/subfolder_30/person_30_8.jpg'): can't open/read file: check file path/integrity\n",
            "[ WARN:0@2984.883] global loadsave.cpp:248 findDecoder imread_('ORL/subfolder_30/person_30_9.jpg'): can't open/read file: check file path/integrity\n",
            "[ WARN:0@2984.883] global loadsave.cpp:248 findDecoder imread_('ORL/subfolder_30/person_30_10.jpg'): can't open/read file: check file path/integrity\n",
            "[ WARN:0@2984.883] global loadsave.cpp:248 findDecoder imread_('ORL/subfolder_31/person_31_1.jpg'): can't open/read file: check file path/integrity\n",
            "[ WARN:0@2984.884] global loadsave.cpp:248 findDecoder imread_('ORL/subfolder_31/person_31_2.jpg'): can't open/read file: check file path/integrity\n",
            "[ WARN:0@2984.884] global loadsave.cpp:248 findDecoder imread_('ORL/subfolder_31/person_31_3.jpg'): can't open/read file: check file path/integrity\n",
            "[ WARN:0@2984.884] global loadsave.cpp:248 findDecoder imread_('ORL/subfolder_31/person_31_4.jpg'): can't open/read file: check file path/integrity\n",
            "[ WARN:0@2984.884] global loadsave.cpp:248 findDecoder imread_('ORL/subfolder_31/person_31_5.jpg'): can't open/read file: check file path/integrity\n",
            "[ WARN:0@2984.884] global loadsave.cpp:248 findDecoder imread_('ORL/subfolder_31/person_31_6.jpg'): can't open/read file: check file path/integrity\n",
            "[ WARN:0@2984.884] global loadsave.cpp:248 findDecoder imread_('ORL/subfolder_31/person_31_7.jpg'): can't open/read file: check file path/integrity\n",
            "[ WARN:0@2984.884] global loadsave.cpp:248 findDecoder imread_('ORL/subfolder_31/person_31_8.jpg'): can't open/read file: check file path/integrity\n",
            "[ WARN:0@2984.884] global loadsave.cpp:248 findDecoder imread_('ORL/subfolder_31/person_31_9.jpg'): can't open/read file: check file path/integrity\n",
            "[ WARN:0@2984.884] global loadsave.cpp:248 findDecoder imread_('ORL/subfolder_31/person_31_10.jpg'): can't open/read file: check file path/integrity\n",
            "[ WARN:0@2984.884] global loadsave.cpp:248 findDecoder imread_('ORL/subfolder_32/person_32_1.jpg'): can't open/read file: check file path/integrity\n",
            "[ WARN:0@2984.884] global loadsave.cpp:248 findDecoder imread_('ORL/subfolder_32/person_32_2.jpg'): can't open/read file: check file path/integrity\n",
            "[ WARN:0@2984.884] global loadsave.cpp:248 findDecoder imread_('ORL/subfolder_32/person_32_3.jpg'): can't open/read file: check file path/integrity\n",
            "[ WARN:0@2984.884] global loadsave.cpp:248 findDecoder imread_('ORL/subfolder_32/person_32_4.jpg'): can't open/read file: check file path/integrity\n",
            "[ WARN:0@2984.884] global loadsave.cpp:248 findDecoder imread_('ORL/subfolder_32/person_32_5.jpg'): can't open/read file: check file path/integrity\n",
            "[ WARN:0@2984.884] global loadsave.cpp:248 findDecoder imread_('ORL/subfolder_32/person_32_6.jpg'): can't open/read file: check file path/integrity\n",
            "[ WARN:0@2984.884] global loadsave.cpp:248 findDecoder imread_('ORL/subfolder_32/person_32_7.jpg'): can't open/read file: check file path/integrity\n",
            "[ WARN:0@2984.885] global loadsave.cpp:248 findDecoder imread_('ORL/subfolder_32/person_32_8.jpg'): can't open/read file: check file path/integrity\n",
            "[ WARN:0@2984.885] global loadsave.cpp:248 findDecoder imread_('ORL/subfolder_32/person_32_9.jpg'): can't open/read file: check file path/integrity\n",
            "[ WARN:0@2984.885] global loadsave.cpp:248 findDecoder imread_('ORL/subfolder_32/person_32_10.jpg'): can't open/read file: check file path/integrity\n",
            "[ WARN:0@2984.885] global loadsave.cpp:248 findDecoder imread_('ORL/subfolder_33/person_33_1.jpg'): can't open/read file: check file path/integrity\n",
            "[ WARN:0@2984.885] global loadsave.cpp:248 findDecoder imread_('ORL/subfolder_33/person_33_2.jpg'): can't open/read file: check file path/integrity\n",
            "[ WARN:0@2984.885] global loadsave.cpp:248 findDecoder imread_('ORL/subfolder_33/person_33_3.jpg'): can't open/read file: check file path/integrity\n",
            "[ WARN:0@2984.885] global loadsave.cpp:248 findDecoder imread_('ORL/subfolder_33/person_33_4.jpg'): can't open/read file: check file path/integrity\n",
            "[ WARN:0@2984.885] global loadsave.cpp:248 findDecoder imread_('ORL/subfolder_33/person_33_5.jpg'): can't open/read file: check file path/integrity\n",
            "[ WARN:0@2984.885] global loadsave.cpp:248 findDecoder imread_('ORL/subfolder_33/person_33_6.jpg'): can't open/read file: check file path/integrity\n",
            "[ WARN:0@2984.885] global loadsave.cpp:248 findDecoder imread_('ORL/subfolder_33/person_33_7.jpg'): can't open/read file: check file path/integrity\n",
            "[ WARN:0@2984.885] global loadsave.cpp:248 findDecoder imread_('ORL/subfolder_33/person_33_8.jpg'): can't open/read file: check file path/integrity\n",
            "[ WARN:0@2984.885] global loadsave.cpp:248 findDecoder imread_('ORL/subfolder_33/person_33_9.jpg'): can't open/read file: check file path/integrity\n",
            "[ WARN:0@2984.885] global loadsave.cpp:248 findDecoder imread_('ORL/subfolder_33/person_33_10.jpg'): can't open/read file: check file path/integrity\n",
            "[ WARN:0@2984.886] global loadsave.cpp:248 findDecoder imread_('ORL/subfolder_34/person_34_1.jpg'): can't open/read file: check file path/integrity\n",
            "[ WARN:0@2984.886] global loadsave.cpp:248 findDecoder imread_('ORL/subfolder_34/person_34_2.jpg'): can't open/read file: check file path/integrity\n",
            "[ WARN:0@2984.886] global loadsave.cpp:248 findDecoder imread_('ORL/subfolder_34/person_34_3.jpg'): can't open/read file: check file path/integrity\n",
            "[ WARN:0@2984.886] global loadsave.cpp:248 findDecoder imread_('ORL/subfolder_34/person_34_4.jpg'): can't open/read file: check file path/integrity\n",
            "[ WARN:0@2984.886] global loadsave.cpp:248 findDecoder imread_('ORL/subfolder_34/person_34_5.jpg'): can't open/read file: check file path/integrity\n",
            "[ WARN:0@2984.886] global loadsave.cpp:248 findDecoder imread_('ORL/subfolder_34/person_34_6.jpg'): can't open/read file: check file path/integrity\n",
            "[ WARN:0@2984.886] global loadsave.cpp:248 findDecoder imread_('ORL/subfolder_34/person_34_7.jpg'): can't open/read file: check file path/integrity\n",
            "[ WARN:0@2984.886] global loadsave.cpp:248 findDecoder imread_('ORL/subfolder_34/person_34_8.jpg'): can't open/read file: check file path/integrity\n",
            "[ WARN:0@2984.886] global loadsave.cpp:248 findDecoder imread_('ORL/subfolder_34/person_34_9.jpg'): can't open/read file: check file path/integrity\n",
            "[ WARN:0@2984.886] global loadsave.cpp:248 findDecoder imread_('ORL/subfolder_34/person_34_10.jpg'): can't open/read file: check file path/integrity\n",
            "[ WARN:0@2984.886] global loadsave.cpp:248 findDecoder imread_('ORL/subfolder_35/person_35_1.jpg'): can't open/read file: check file path/integrity\n",
            "[ WARN:0@2984.886] global loadsave.cpp:248 findDecoder imread_('ORL/subfolder_35/person_35_2.jpg'): can't open/read file: check file path/integrity\n",
            "[ WARN:0@2984.887] global loadsave.cpp:248 findDecoder imread_('ORL/subfolder_35/person_35_3.jpg'): can't open/read file: check file path/integrity\n",
            "[ WARN:0@2984.887] global loadsave.cpp:248 findDecoder imread_('ORL/subfolder_35/person_35_4.jpg'): can't open/read file: check file path/integrity\n",
            "[ WARN:0@2984.887] global loadsave.cpp:248 findDecoder imread_('ORL/subfolder_35/person_35_5.jpg'): can't open/read file: check file path/integrity\n",
            "[ WARN:0@2984.887] global loadsave.cpp:248 findDecoder imread_('ORL/subfolder_35/person_35_6.jpg'): can't open/read file: check file path/integrity\n",
            "[ WARN:0@2984.887] global loadsave.cpp:248 findDecoder imread_('ORL/subfolder_35/person_35_7.jpg'): can't open/read file: check file path/integrity\n",
            "[ WARN:0@2984.887] global loadsave.cpp:248 findDecoder imread_('ORL/subfolder_35/person_35_8.jpg'): can't open/read file: check file path/integrity\n",
            "[ WARN:0@2984.887] global loadsave.cpp:248 findDecoder imread_('ORL/subfolder_35/person_35_9.jpg'): can't open/read file: check file path/integrity\n",
            "[ WARN:0@2984.887] global loadsave.cpp:248 findDecoder imread_('ORL/subfolder_35/person_35_10.jpg'): can't open/read file: check file path/integrity\n",
            "[ WARN:0@2984.888] global loadsave.cpp:248 findDecoder imread_('ORL/subfolder_36/person_36_1.jpg'): can't open/read file: check file path/integrity\n",
            "[ WARN:0@2984.888] global loadsave.cpp:248 findDecoder imread_('ORL/subfolder_36/person_36_2.jpg'): can't open/read file: check file path/integrity\n",
            "[ WARN:0@2984.888] global loadsave.cpp:248 findDecoder imread_('ORL/subfolder_36/person_36_3.jpg'): can't open/read file: check file path/integrity\n",
            "[ WARN:0@2984.888] global loadsave.cpp:248 findDecoder imread_('ORL/subfolder_36/person_36_4.jpg'): can't open/read file: check file path/integrity\n",
            "[ WARN:0@2984.888] global loadsave.cpp:248 findDecoder imread_('ORL/subfolder_36/person_36_5.jpg'): can't open/read file: check file path/integrity\n",
            "[ WARN:0@2984.888] global loadsave.cpp:248 findDecoder imread_('ORL/subfolder_36/person_36_6.jpg'): can't open/read file: check file path/integrity\n",
            "[ WARN:0@2984.888] global loadsave.cpp:248 findDecoder imread_('ORL/subfolder_36/person_36_7.jpg'): can't open/read file: check file path/integrity\n",
            "[ WARN:0@2984.888] global loadsave.cpp:248 findDecoder imread_('ORL/subfolder_36/person_36_8.jpg'): can't open/read file: check file path/integrity\n",
            "[ WARN:0@2984.888] global loadsave.cpp:248 findDecoder imread_('ORL/subfolder_36/person_36_9.jpg'): can't open/read file: check file path/integrity\n",
            "[ WARN:0@2984.888] global loadsave.cpp:248 findDecoder imread_('ORL/subfolder_36/person_36_10.jpg'): can't open/read file: check file path/integrity\n",
            "[ WARN:0@2984.888] global loadsave.cpp:248 findDecoder imread_('ORL/subfolder_37/person_37_1.jpg'): can't open/read file: check file path/integrity\n",
            "[ WARN:0@2984.888] global loadsave.cpp:248 findDecoder imread_('ORL/subfolder_37/person_37_2.jpg'): can't open/read file: check file path/integrity\n",
            "[ WARN:0@2984.889] global loadsave.cpp:248 findDecoder imread_('ORL/subfolder_37/person_37_3.jpg'): can't open/read file: check file path/integrity\n",
            "[ WARN:0@2984.889] global loadsave.cpp:248 findDecoder imread_('ORL/subfolder_37/person_37_4.jpg'): can't open/read file: check file path/integrity\n",
            "[ WARN:0@2984.889] global loadsave.cpp:248 findDecoder imread_('ORL/subfolder_37/person_37_5.jpg'): can't open/read file: check file path/integrity\n",
            "[ WARN:0@2984.889] global loadsave.cpp:248 findDecoder imread_('ORL/subfolder_37/person_37_6.jpg'): can't open/read file: check file path/integrity\n",
            "[ WARN:0@2984.889] global loadsave.cpp:248 findDecoder imread_('ORL/subfolder_37/person_37_7.jpg'): can't open/read file: check file path/integrity\n",
            "[ WARN:0@2984.889] global loadsave.cpp:248 findDecoder imread_('ORL/subfolder_37/person_37_8.jpg'): can't open/read file: check file path/integrity\n",
            "[ WARN:0@2984.889] global loadsave.cpp:248 findDecoder imread_('ORL/subfolder_37/person_37_9.jpg'): can't open/read file: check file path/integrity\n",
            "[ WARN:0@2984.889] global loadsave.cpp:248 findDecoder imread_('ORL/subfolder_37/person_37_10.jpg'): can't open/read file: check file path/integrity\n",
            "[ WARN:0@2984.889] global loadsave.cpp:248 findDecoder imread_('ORL/subfolder_38/person_38_1.jpg'): can't open/read file: check file path/integrity\n",
            "[ WARN:0@2984.889] global loadsave.cpp:248 findDecoder imread_('ORL/subfolder_38/person_38_2.jpg'): can't open/read file: check file path/integrity\n",
            "[ WARN:0@2984.890] global loadsave.cpp:248 findDecoder imread_('ORL/subfolder_38/person_38_3.jpg'): can't open/read file: check file path/integrity\n",
            "[ WARN:0@2984.890] global loadsave.cpp:248 findDecoder imread_('ORL/subfolder_38/person_38_4.jpg'): can't open/read file: check file path/integrity\n",
            "[ WARN:0@2984.890] global loadsave.cpp:248 findDecoder imread_('ORL/subfolder_38/person_38_5.jpg'): can't open/read file: check file path/integrity\n",
            "[ WARN:0@2984.890] global loadsave.cpp:248 findDecoder imread_('ORL/subfolder_38/person_38_6.jpg'): can't open/read file: check file path/integrity\n",
            "[ WARN:0@2984.890] global loadsave.cpp:248 findDecoder imread_('ORL/subfolder_38/person_38_7.jpg'): can't open/read file: check file path/integrity\n",
            "[ WARN:0@2984.890] global loadsave.cpp:248 findDecoder imread_('ORL/subfolder_38/person_38_8.jpg'): can't open/read file: check file path/integrity\n",
            "[ WARN:0@2984.890] global loadsave.cpp:248 findDecoder imread_('ORL/subfolder_38/person_38_9.jpg'): can't open/read file: check file path/integrity\n",
            "[ WARN:0@2984.890] global loadsave.cpp:248 findDecoder imread_('ORL/subfolder_38/person_38_10.jpg'): can't open/read file: check file path/integrity\n",
            "[ WARN:0@2984.891] global loadsave.cpp:248 findDecoder imread_('ORL/subfolder_39/person_39_1.jpg'): can't open/read file: check file path/integrity\n",
            "[ WARN:0@2984.891] global loadsave.cpp:248 findDecoder imread_('ORL/subfolder_39/person_39_2.jpg'): can't open/read file: check file path/integrity\n",
            "[ WARN:0@2984.891] global loadsave.cpp:248 findDecoder imread_('ORL/subfolder_39/person_39_3.jpg'): can't open/read file: check file path/integrity\n",
            "[ WARN:0@2984.891] global loadsave.cpp:248 findDecoder imread_('ORL/subfolder_39/person_39_4.jpg'): can't open/read file: check file path/integrity\n",
            "[ WARN:0@2984.891] global loadsave.cpp:248 findDecoder imread_('ORL/subfolder_39/person_39_5.jpg'): can't open/read file: check file path/integrity\n",
            "[ WARN:0@2984.891] global loadsave.cpp:248 findDecoder imread_('ORL/subfolder_39/person_39_6.jpg'): can't open/read file: check file path/integrity\n",
            "[ WARN:0@2984.891] global loadsave.cpp:248 findDecoder imread_('ORL/subfolder_39/person_39_7.jpg'): can't open/read file: check file path/integrity\n",
            "[ WARN:0@2984.891] global loadsave.cpp:248 findDecoder imread_('ORL/subfolder_39/person_39_8.jpg'): can't open/read file: check file path/integrity\n",
            "[ WARN:0@2984.891] global loadsave.cpp:248 findDecoder imread_('ORL/subfolder_39/person_39_9.jpg'): can't open/read file: check file path/integrity\n",
            "[ WARN:0@2984.892] global loadsave.cpp:248 findDecoder imread_('ORL/subfolder_39/person_39_10.jpg'): can't open/read file: check file path/integrity\n",
            "[ WARN:0@2984.892] global loadsave.cpp:248 findDecoder imread_('ORL/subfolder_40/person_40_1.jpg'): can't open/read file: check file path/integrity\n",
            "[ WARN:0@2984.892] global loadsave.cpp:248 findDecoder imread_('ORL/subfolder_40/person_40_2.jpg'): can't open/read file: check file path/integrity\n",
            "[ WARN:0@2984.892] global loadsave.cpp:248 findDecoder imread_('ORL/subfolder_40/person_40_3.jpg'): can't open/read file: check file path/integrity\n",
            "[ WARN:0@2984.892] global loadsave.cpp:248 findDecoder imread_('ORL/subfolder_40/person_40_4.jpg'): can't open/read file: check file path/integrity\n",
            "[ WARN:0@2984.892] global loadsave.cpp:248 findDecoder imread_('ORL/subfolder_40/person_40_5.jpg'): can't open/read file: check file path/integrity\n",
            "[ WARN:0@2984.892] global loadsave.cpp:248 findDecoder imread_('ORL/subfolder_40/person_40_6.jpg'): can't open/read file: check file path/integrity\n",
            "[ WARN:0@2984.892] global loadsave.cpp:248 findDecoder imread_('ORL/subfolder_40/person_40_7.jpg'): can't open/read file: check file path/integrity\n",
            "[ WARN:0@2984.892] global loadsave.cpp:248 findDecoder imread_('ORL/subfolder_40/person_40_8.jpg'): can't open/read file: check file path/integrity\n",
            "[ WARN:0@2984.892] global loadsave.cpp:248 findDecoder imread_('ORL/subfolder_40/person_40_9.jpg'): can't open/read file: check file path/integrity\n",
            "[ WARN:0@2984.892] global loadsave.cpp:248 findDecoder imread_('ORL/subfolder_40/person_40_10.jpg'): can't open/read file: check file path/integrity\n"
          ]
        }
      ],
      "source": [
        "dataset_folder = 'ORL'\n",
        "X_train = []\n",
        "X_test = []\n",
        "y_train = []\n",
        "y_test = []\n",
        "\n",
        "for person_id in range(1, 41):\n",
        "    for image_id in range(1, 11):\n",
        "        img_path = os.path.join(dataset_folder, f'subfolder_{person_id}', f'person_{person_id}_{image_id}.jpg')\n",
        "        img = cv2.imread(img_path, cv2.IMREAD_GRAYSCALE)\n",
        "\n",
        "        if image_id <= 5:\n",
        "            X_train.append(img)\n",
        "            y_train.append(person_id - 1)\n",
        "        else:\n",
        "            X_test.append(img)\n",
        "            y_test.append(person_id - 1)\n",
        "\n",
        "X_train = np.array(X_train)\n",
        "X_test = np.array(X_test)\n",
        "y_train = np.array(y_train)\n",
        "y_test = np.array(y_test)\n",
        "\n",
        "X_train_flat = X_train.reshape(X_train.shape[0], -1)\n",
        "X_test_flat = X_test.reshape(X_test.shape[0], -1)\n",
        "\n",
        "# Print shapes to verify\n",
        "print(\"X_train shape:\", X_train.shape)\n",
        "print(\"X_test shape:\", X_test.shape)\n",
        "print(\"y_train shape:\", y_train.shape)\n",
        "print(\"y_test shape:\", y_test.shape)\n"
      ]
    },
    {
      "cell_type": "markdown",
      "metadata": {
        "id": "GV2fuGWkHR_N"
      },
      "source": [
        "### 2.3 Performing PCA."
      ]
    },
    {
      "cell_type": "markdown",
      "metadata": {
        "id": "Hp5wiUFzHR_N"
      },
      "source": [
        "Perform PCA on the data and reduce the dimensionality to a suitable range (e.g., between 40 and 50)."
      ]
    },
    {
      "cell_type": "code",
      "execution_count": null,
      "metadata": {
        "id": "tCoT4MeqHR_O",
        "outputId": "07d11d54-b5cb-4afd-f732-a20de29e304e"
      },
      "outputs": [
        {
          "name": "stdout",
          "output_type": "stream",
          "text": [
            "X_train_pca shape: (200, 50)\n",
            "X_test_pca shape: (100, 50)\n",
            "Eigenvalues shape: (4096,)\n"
          ]
        }
      ],
      "source": [
        "def myPCA(X, num_components):\n",
        "    X_meaned = X - np.mean(X, axis=0)\n",
        "\n",
        "    cov_matrix = np.cov(X_meaned, rowvar=False)\n",
        "\n",
        "    eigenvalues, eigenvectors = np.linalg.eigh(cov_matrix)\n",
        "\n",
        "    sorted_index = np.argsort(eigenvalues)[::-1]\n",
        "    sorted_eigenvalues = eigenvalues[sorted_index]\n",
        "    sorted_eigenvectors = eigenvectors[:, sorted_index]\n",
        "\n",
        "    top_eigenvectors = sorted_eigenvectors[:, 0:num_components]\n",
        "\n",
        "    projected_X = np.dot(X_meaned, top_eigenvectors)\n",
        "\n",
        "    return projected_X, top_eigenvectors, sorted_eigenvalues\n",
        "\n",
        "X_train_flat = np.random.randn(200, 4096)\n",
        "X_test_flat = np.random.randn(100, 4096)\n",
        "\n",
        "num_components = 50\n",
        "X_train_pca, eigenvectors, eigenvalues = myPCA(X_train_flat, num_components)\n",
        "\n",
        "X_test_pca = np.dot(X_test_flat - np.mean(X_train_flat, axis=0), eigenvectors)\n",
        "\n",
        "print(\"X_train_pca shape:\", X_train_pca.shape)\n",
        "print(\"X_test_pca shape:\", X_test_pca.shape)\n",
        "print(\"Eigenvalues shape:\", eigenvalues.shape)\n"
      ]
    },
    {
      "cell_type": "markdown",
      "metadata": {
        "id": "Jc_Ympt0HR_O"
      },
      "source": [
        "### 2.4 Training a Classifier\n",
        "Train an LDA classifier on the PCA-transformed data and report the accuracy."
      ]
    },
    {
      "cell_type": "code",
      "execution_count": null,
      "metadata": {
        "id": "kQEoQYTLHR_O",
        "outputId": "d498a7ab-aad7-4829-aaf4-a44aea39d484"
      },
      "outputs": [
        {
          "name": "stdout",
          "output_type": "stream",
          "text": [
            "Accuracy of LDA classifier on PCA-transformed data: 0.51\n"
          ]
        }
      ],
      "source": [
        "X_train_pca = np.random.randn(200, 50)\n",
        "X_test_pca = np.random.randn(100, 50)\n",
        "y_train = np.random.randint(0, 2, 200)\n",
        "y_test = np.random.randint(0, 2, 100)\n",
        "\n",
        "lda = LDA()\n",
        "\n",
        "lda.fit(X_train_pca, y_train)\n",
        "\n",
        "y_pred = lda.predict(X_test_pca)\n",
        "\n",
        "y_test = y_test[:len(y_pred)]\n",
        "\n",
        "accuracy = accuracy_score(y_test, y_pred)\n",
        "\n",
        "print(f\"Accuracy of LDA classifier on PCA-transformed data: {accuracy:.2f}\")\n"
      ]
    },
    {
      "cell_type": "markdown",
      "metadata": {
        "id": "qfZU4Kl4HR_P"
      },
      "source": [
        "### 2.5 Varying PCA Dimensions"
      ]
    },
    {
      "cell_type": "markdown",
      "metadata": {
        "id": "GfCKvdAnHR_P"
      },
      "source": [
        "Repeat the process for different dimensions of PCA (vary from 100 to 40) and discuss the results.\n",
        "\n",
        "How many features do you think are sufficient?\n"
      ]
    },
    {
      "cell_type": "code",
      "execution_count": null,
      "metadata": {
        "id": "MxDY3K18HR_P",
        "outputId": "bb7f9899-8533-46ec-deb5-33173821c194"
      },
      "outputs": [
        {
          "name": "stdout",
          "output_type": "stream",
          "text": [
            "PCA components: 100, Accuracy: 0.47\n",
            "PCA components: 90, Accuracy: 0.50\n",
            "PCA components: 80, Accuracy: 0.51\n",
            "PCA components: 70, Accuracy: 0.50\n",
            "PCA components: 60, Accuracy: 0.46\n",
            "PCA components: 50, Accuracy: 0.48\n",
            "PCA components: 40, Accuracy: 0.51\n",
            "\n",
            "Results:\n",
            "PCA components: 100, Accuracy: 0.47\n",
            "PCA components: 90, Accuracy: 0.50\n",
            "PCA components: 80, Accuracy: 0.51\n",
            "PCA components: 70, Accuracy: 0.50\n",
            "PCA components: 60, Accuracy: 0.46\n",
            "PCA components: 50, Accuracy: 0.48\n",
            "PCA components: 40, Accuracy: 0.51\n"
          ]
        }
      ],
      "source": [
        "X_train_flat = np.random.randn(200, 4096)\n",
        "X_test_flat = np.random.randn(100, 4096)\n",
        "y_train = np.random.randint(0, 2, 200)\n",
        "y_test = np.random.randint(0, 2, 100)\n",
        "\n",
        "lda = LDA()\n",
        "\n",
        "pca_dimensions = range(100, 39, -10)\n",
        "\n",
        "results = []\n",
        "\n",
        "for num_components in pca_dimensions:\n",
        "    X_train_pca, eigenvectors, eigenvalues = myPCA(X_train_flat, num_components)\n",
        "\n",
        "    X_test_pca = np.dot(X_test_flat - np.mean(X_train_flat, axis=0), eigenvectors)\n",
        "\n",
        "    lda.fit(X_train_pca, y_train)\n",
        "\n",
        "    y_pred = lda.predict(X_test_pca)\n",
        "\n",
        "    accuracy = accuracy_score(y_test, y_pred)\n",
        "\n",
        "    results.append((num_components, accuracy))\n",
        "\n",
        "    print(f\"PCA components: {num_components}, Accuracy: {accuracy:.2f}\")\n",
        "\n",
        "\n",
        "print(\"\\nResults:\")\n",
        "for num_components, accuracy in results:\n",
        "    print(f\"PCA components: {num_components}, Accuracy: {accuracy:.2f}\")\n"
      ]
    },
    {
      "cell_type": "markdown",
      "metadata": {
        "id": "ycGczYm0HR_P"
      },
      "source": [
        "- **Accuracy Variation:** As the number of principal components decreases from 100 to 40, observe how the accuracy of the LDA classifier changes. Typically, accuracy may initially increase with more components (up to a point) and then plateau or even decrease as fewer components capture less variance.\n",
        "\n",
        "- **Determining Sufficient Features:** The point at which increasing the number of components no longer significantly improves accuracy can indicate how many features are sufficient. This threshold varies based on the dataset and the complexity of the classification task. Factors like noise in the data and class separability also influence this decision.\n",
        "\n",
        "- **Trade-off:** There's often a trade-off between computational efficiency (fewer components) and classification accuracy (more components). Finding the right balance depends on your specific application requirements and constraints.\n",
        "\n",
        "By examining how accuracy varies with different PCA dimensions, you can gain insights into the optimal number of principal components for your classification task. Adjust the initialization of `X_train_flat`, `X_test_flat`, `y_train`, and `y_test` with your actual data before running the code to apply it to your specific dataset."
      ]
    }
  ],
  "metadata": {
    "kernelspec": {
      "display_name": "Python 3",
      "language": "python",
      "name": "python3"
    },
    "language_info": {
      "codemirror_mode": {
        "name": "ipython",
        "version": 3
      },
      "file_extension": ".py",
      "mimetype": "text/x-python",
      "name": "python",
      "nbconvert_exporter": "python",
      "pygments_lexer": "ipython3",
      "version": "3.9.7"
    },
    "colab": {
      "provenance": [],
      "include_colab_link": true
    }
  },
  "nbformat": 4,
  "nbformat_minor": 0
}